{
  "nbformat": 4,
  "nbformat_minor": 0,
  "metadata": {
    "colab": {
      "name": "NaiveBayes_Wine.ipynb",
      "provenance": [],
      "authorship_tag": "ABX9TyMP8tdL2XrTnLA72lrSYve3",
      "include_colab_link": true
    },
    "kernelspec": {
      "name": "python3",
      "display_name": "Python 3"
    }
  },
  "cells": [
    {
      "cell_type": "markdown",
      "metadata": {
        "id": "view-in-github",
        "colab_type": "text"
      },
      "source": [
        "<a href=\"https://colab.research.google.com/github/amiya559/GreatLearningUseCases/blob/master/NaiveBayes_Wine.ipynb\" target=\"_parent\"><img src=\"https://colab.research.google.com/assets/colab-badge.svg\" alt=\"Open In Colab\"/></a>"
      ]
    },
    {
      "cell_type": "code",
      "metadata": {
        "id": "oxDxYuf-NqIn",
        "colab_type": "code",
        "colab": {}
      },
      "source": [
        "import numpy as np\n",
        "import pandas as pd\n",
        "from sklearn.naive_bayes import GaussianNB\n",
        "import matplotlib.pyplot as plt\n",
        "import seaborn as sns\n",
        "from sklearn import metrics\n",
        "import scipy.stats as stats\n",
        "from sklearn.model_selection import train_test_split"
      ],
      "execution_count": 0,
      "outputs": []
    },
    {
      "cell_type": "code",
      "metadata": {
        "id": "Px34BbvxP6of",
        "colab_type": "code",
        "outputId": "6f50f5aa-28d5-4532-e648-57384bb1e993",
        "colab": {
          "base_uri": "https://localhost:8080/",
          "height": 478
        }
      },
      "source": [
        "wine_df = pd.read_csv(\"wine.csv\")\n",
        "wine_df.describe().transpose() "
      ],
      "execution_count": 0,
      "outputs": [
        {
          "output_type": "execute_result",
          "data": {
            "text/html": [
              "<div>\n",
              "<style scoped>\n",
              "    .dataframe tbody tr th:only-of-type {\n",
              "        vertical-align: middle;\n",
              "    }\n",
              "\n",
              "    .dataframe tbody tr th {\n",
              "        vertical-align: top;\n",
              "    }\n",
              "\n",
              "    .dataframe thead th {\n",
              "        text-align: right;\n",
              "    }\n",
              "</style>\n",
              "<table border=\"1\" class=\"dataframe\">\n",
              "  <thead>\n",
              "    <tr style=\"text-align: right;\">\n",
              "      <th></th>\n",
              "      <th>count</th>\n",
              "      <th>mean</th>\n",
              "      <th>std</th>\n",
              "      <th>min</th>\n",
              "      <th>25%</th>\n",
              "      <th>50%</th>\n",
              "      <th>75%</th>\n",
              "      <th>max</th>\n",
              "    </tr>\n",
              "  </thead>\n",
              "  <tbody>\n",
              "    <tr>\n",
              "      <th>Wine</th>\n",
              "      <td>178.0</td>\n",
              "      <td>1.938202</td>\n",
              "      <td>0.775035</td>\n",
              "      <td>1.00</td>\n",
              "      <td>1.0000</td>\n",
              "      <td>2.000</td>\n",
              "      <td>3.0000</td>\n",
              "      <td>3.00</td>\n",
              "    </tr>\n",
              "    <tr>\n",
              "      <th>Alcohol</th>\n",
              "      <td>178.0</td>\n",
              "      <td>13.000618</td>\n",
              "      <td>0.811827</td>\n",
              "      <td>11.03</td>\n",
              "      <td>12.3625</td>\n",
              "      <td>13.050</td>\n",
              "      <td>13.6775</td>\n",
              "      <td>14.83</td>\n",
              "    </tr>\n",
              "    <tr>\n",
              "      <th>Malic.acid</th>\n",
              "      <td>178.0</td>\n",
              "      <td>2.336348</td>\n",
              "      <td>1.117146</td>\n",
              "      <td>0.74</td>\n",
              "      <td>1.6025</td>\n",
              "      <td>1.865</td>\n",
              "      <td>3.0825</td>\n",
              "      <td>5.80</td>\n",
              "    </tr>\n",
              "    <tr>\n",
              "      <th>Ash</th>\n",
              "      <td>178.0</td>\n",
              "      <td>2.366517</td>\n",
              "      <td>0.274344</td>\n",
              "      <td>1.36</td>\n",
              "      <td>2.2100</td>\n",
              "      <td>2.360</td>\n",
              "      <td>2.5575</td>\n",
              "      <td>3.23</td>\n",
              "    </tr>\n",
              "    <tr>\n",
              "      <th>Acl</th>\n",
              "      <td>178.0</td>\n",
              "      <td>19.494944</td>\n",
              "      <td>3.339564</td>\n",
              "      <td>10.60</td>\n",
              "      <td>17.2000</td>\n",
              "      <td>19.500</td>\n",
              "      <td>21.5000</td>\n",
              "      <td>30.00</td>\n",
              "    </tr>\n",
              "    <tr>\n",
              "      <th>Mg</th>\n",
              "      <td>178.0</td>\n",
              "      <td>99.741573</td>\n",
              "      <td>14.282484</td>\n",
              "      <td>70.00</td>\n",
              "      <td>88.0000</td>\n",
              "      <td>98.000</td>\n",
              "      <td>107.0000</td>\n",
              "      <td>162.00</td>\n",
              "    </tr>\n",
              "    <tr>\n",
              "      <th>Phenols</th>\n",
              "      <td>178.0</td>\n",
              "      <td>2.295112</td>\n",
              "      <td>0.625851</td>\n",
              "      <td>0.98</td>\n",
              "      <td>1.7425</td>\n",
              "      <td>2.355</td>\n",
              "      <td>2.8000</td>\n",
              "      <td>3.88</td>\n",
              "    </tr>\n",
              "    <tr>\n",
              "      <th>Flavanoids</th>\n",
              "      <td>178.0</td>\n",
              "      <td>2.029270</td>\n",
              "      <td>0.998859</td>\n",
              "      <td>0.34</td>\n",
              "      <td>1.2050</td>\n",
              "      <td>2.135</td>\n",
              "      <td>2.8750</td>\n",
              "      <td>5.08</td>\n",
              "    </tr>\n",
              "    <tr>\n",
              "      <th>Nonflavanoid.phenols</th>\n",
              "      <td>178.0</td>\n",
              "      <td>0.361854</td>\n",
              "      <td>0.124453</td>\n",
              "      <td>0.13</td>\n",
              "      <td>0.2700</td>\n",
              "      <td>0.340</td>\n",
              "      <td>0.4375</td>\n",
              "      <td>0.66</td>\n",
              "    </tr>\n",
              "    <tr>\n",
              "      <th>Proanth</th>\n",
              "      <td>178.0</td>\n",
              "      <td>1.590899</td>\n",
              "      <td>0.572359</td>\n",
              "      <td>0.41</td>\n",
              "      <td>1.2500</td>\n",
              "      <td>1.555</td>\n",
              "      <td>1.9500</td>\n",
              "      <td>3.58</td>\n",
              "    </tr>\n",
              "    <tr>\n",
              "      <th>Color.int</th>\n",
              "      <td>178.0</td>\n",
              "      <td>5.058090</td>\n",
              "      <td>2.318286</td>\n",
              "      <td>1.28</td>\n",
              "      <td>3.2200</td>\n",
              "      <td>4.690</td>\n",
              "      <td>6.2000</td>\n",
              "      <td>13.00</td>\n",
              "    </tr>\n",
              "    <tr>\n",
              "      <th>Hue</th>\n",
              "      <td>178.0</td>\n",
              "      <td>0.957449</td>\n",
              "      <td>0.228572</td>\n",
              "      <td>0.48</td>\n",
              "      <td>0.7825</td>\n",
              "      <td>0.965</td>\n",
              "      <td>1.1200</td>\n",
              "      <td>1.71</td>\n",
              "    </tr>\n",
              "    <tr>\n",
              "      <th>OD</th>\n",
              "      <td>178.0</td>\n",
              "      <td>2.611685</td>\n",
              "      <td>0.709990</td>\n",
              "      <td>1.27</td>\n",
              "      <td>1.9375</td>\n",
              "      <td>2.780</td>\n",
              "      <td>3.1700</td>\n",
              "      <td>4.00</td>\n",
              "    </tr>\n",
              "    <tr>\n",
              "      <th>Proline</th>\n",
              "      <td>178.0</td>\n",
              "      <td>746.893258</td>\n",
              "      <td>314.907474</td>\n",
              "      <td>278.00</td>\n",
              "      <td>500.5000</td>\n",
              "      <td>673.500</td>\n",
              "      <td>985.0000</td>\n",
              "      <td>1680.00</td>\n",
              "    </tr>\n",
              "  </tbody>\n",
              "</table>\n",
              "</div>"
            ],
            "text/plain": [
              "                      count        mean         std  ...      50%       75%      max\n",
              "Wine                  178.0    1.938202    0.775035  ...    2.000    3.0000     3.00\n",
              "Alcohol               178.0   13.000618    0.811827  ...   13.050   13.6775    14.83\n",
              "Malic.acid            178.0    2.336348    1.117146  ...    1.865    3.0825     5.80\n",
              "Ash                   178.0    2.366517    0.274344  ...    2.360    2.5575     3.23\n",
              "Acl                   178.0   19.494944    3.339564  ...   19.500   21.5000    30.00\n",
              "Mg                    178.0   99.741573   14.282484  ...   98.000  107.0000   162.00\n",
              "Phenols               178.0    2.295112    0.625851  ...    2.355    2.8000     3.88\n",
              "Flavanoids            178.0    2.029270    0.998859  ...    2.135    2.8750     5.08\n",
              "Nonflavanoid.phenols  178.0    0.361854    0.124453  ...    0.340    0.4375     0.66\n",
              "Proanth               178.0    1.590899    0.572359  ...    1.555    1.9500     3.58\n",
              "Color.int             178.0    5.058090    2.318286  ...    4.690    6.2000    13.00\n",
              "Hue                   178.0    0.957449    0.228572  ...    0.965    1.1200     1.71\n",
              "OD                    178.0    2.611685    0.709990  ...    2.780    3.1700     4.00\n",
              "Proline               178.0  746.893258  314.907474  ...  673.500  985.0000  1680.00\n",
              "\n",
              "[14 rows x 8 columns]"
            ]
          },
          "metadata": {
            "tags": []
          },
          "execution_count": 15
        }
      ]
    },
    {
      "cell_type": "code",
      "metadata": {
        "id": "pnanTjYpSWGh",
        "colab_type": "code",
        "outputId": "4f567b2d-2aa8-4aa0-db99-c25e9bb2e11d",
        "colab": {
          "base_uri": "https://localhost:8080/",
          "height": 381
        }
      },
      "source": [
        "wine_df.info()"
      ],
      "execution_count": 0,
      "outputs": [
        {
          "output_type": "stream",
          "text": [
            "<class 'pandas.core.frame.DataFrame'>\n",
            "RangeIndex: 178 entries, 0 to 177\n",
            "Data columns (total 14 columns):\n",
            " #   Column                Non-Null Count  Dtype  \n",
            "---  ------                --------------  -----  \n",
            " 0   Wine                  178 non-null    int64  \n",
            " 1   Alcohol               178 non-null    float64\n",
            " 2   Malic.acid            178 non-null    float64\n",
            " 3   Ash                   178 non-null    float64\n",
            " 4   Acl                   178 non-null    float64\n",
            " 5   Mg                    178 non-null    int64  \n",
            " 6   Phenols               178 non-null    float64\n",
            " 7   Flavanoids            178 non-null    float64\n",
            " 8   Nonflavanoid.phenols  178 non-null    float64\n",
            " 9   Proanth               178 non-null    float64\n",
            " 10  Color.int             178 non-null    float64\n",
            " 11  Hue                   178 non-null    float64\n",
            " 12  OD                    178 non-null    float64\n",
            " 13  Proline               178 non-null    int64  \n",
            "dtypes: float64(11), int64(3)\n",
            "memory usage: 19.6 KB\n"
          ],
          "name": "stdout"
        }
      ]
    },
    {
      "cell_type": "code",
      "metadata": {
        "id": "1GVC_1l7SUzy",
        "colab_type": "code",
        "colab": {}
      },
      "source": [
        "sns.pairplot(wine_df, diag_kind=\"kde\", hue=\"Wine\")"
      ],
      "execution_count": 0,
      "outputs": []
    },
    {
      "cell_type": "code",
      "metadata": {
        "id": "Q0sqCs9PSSzJ",
        "colab_type": "code",
        "colab": {}
      },
      "source": [
        "# Spliting data\n",
        "X = wine_df.drop(\"Wine\", axis = 1)\n",
        "y = wine_df.pop(\"Wine\")"
      ],
      "execution_count": 0,
      "outputs": []
    },
    {
      "cell_type": "code",
      "metadata": {
        "id": "TMT3LOWmTVrd",
        "colab_type": "code",
        "colab": {}
      },
      "source": [
        "train_set, test_set, train_labels, test_labels = train_test_split(X, y, test_size = 0.30, random_state =1)"
      ],
      "execution_count": 0,
      "outputs": []
    },
    {
      "cell_type": "code",
      "metadata": {
        "id": "CkPwldudYpAo",
        "colab_type": "code",
        "colab": {
          "base_uri": "https://localhost:8080/",
          "height": 35
        },
        "outputId": "0d9b7646-7839-45d4-85eb-eb6de3388763"
      },
      "source": [
        "model = GaussianNB()\n",
        "model.fit(train_set, train_labels)"
      ],
      "execution_count": 27,
      "outputs": [
        {
          "output_type": "execute_result",
          "data": {
            "text/plain": [
              "GaussianNB(priors=None, var_smoothing=1e-09)"
            ]
          },
          "metadata": {
            "tags": []
          },
          "execution_count": 27
        }
      ]
    },
    {
      "cell_type": "code",
      "metadata": {
        "id": "SqATX4HjY7sK",
        "colab_type": "code",
        "colab": {
          "base_uri": "https://localhost:8080/",
          "height": 35
        },
        "outputId": "9950df69-2851-440b-fec9-3366af12cb4a"
      },
      "source": [
        "model.score(train_set, train_labels)"
      ],
      "execution_count": 29,
      "outputs": [
        {
          "output_type": "execute_result",
          "data": {
            "text/plain": [
              "0.9758064516129032"
            ]
          },
          "metadata": {
            "tags": []
          },
          "execution_count": 29
        }
      ]
    },
    {
      "cell_type": "code",
      "metadata": {
        "id": "a3d1ZvIYZEE9",
        "colab_type": "code",
        "colab": {}
      },
      "source": [
        "test_pred = model.predict(test_set)\n",
        "\n"
      ],
      "execution_count": 0,
      "outputs": []
    },
    {
      "cell_type": "code",
      "metadata": {
        "id": "qZQw5K9kZhX2",
        "colab_type": "code",
        "colab": {
          "base_uri": "https://localhost:8080/",
          "height": 243
        },
        "outputId": "5bd3a6f5-07fc-430d-bd6b-f93368b7defa"
      },
      "source": [
        "print(metrics.classification_report(test_labels, test_pred))\n",
        "print(metrics.confusion_matrix(test_labels, test_pred))"
      ],
      "execution_count": 35,
      "outputs": [
        {
          "output_type": "stream",
          "text": [
            "              precision    recall  f1-score   support\n",
            "\n",
            "           1       0.96      1.00      0.98        23\n",
            "           2       1.00      0.95      0.97        19\n",
            "           3       1.00      1.00      1.00        12\n",
            "\n",
            "    accuracy                           0.98        54\n",
            "   macro avg       0.99      0.98      0.98        54\n",
            "weighted avg       0.98      0.98      0.98        54\n",
            "\n",
            "[[23  0  0]\n",
            " [ 1 18  0]\n",
            " [ 0  0 12]]\n"
          ],
          "name": "stdout"
        }
      ]
    }
  ]
}